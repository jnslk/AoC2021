{
 "cells": [
  {
   "cell_type": "markdown",
   "id": "handmade-argument",
   "metadata": {},
   "source": [
    "# Advent of Code\n",
    "\n",
    "This notebook contains my solutions for the 2021 version of [Advent of Code](https://adventofcode.com/2021).\n",
    "\n",
    "![Test Notebook](https://github.com/jnslk/AoC2021/workflows/test%20notebook/badge.svg)\n",
    "\n",
    "\n",
    "## Imports and Dataimport"
   ]
  },
  {
   "cell_type": "code",
   "execution_count": 1,
   "id": "super-result",
   "metadata": {},
   "outputs": [],
   "source": [
    "from collections import Counter\n",
    "\n",
    "def data(day: int, parser=str, sep='\\n') -> list:\n",
    "    \"Split the day's input file into sections separated by `sep`, and apply `parser` function to each.\"\n",
    "    with open(f'../data/day{day}.txt') as f:\n",
    "        sections = f.read().rstrip().split(sep)\n",
    "        return list(map(parser, sections))"
   ]
  },
  {
   "cell_type": "markdown",
   "id": "general-bristol",
   "metadata": {},
   "source": [
    "# Day 1: Sonar Sweep\n",
    "\n",
    "## Part 1\n",
    "For the first puzzle we are provided with a list of depth measurements from sonar. The task is to count the number of depth measurements that are greater than the previously measured value. "
   ]
  },
  {
   "cell_type": "code",
   "execution_count": 2,
   "id": "postal-probe",
   "metadata": {},
   "outputs": [
    {
     "data": {
      "text/plain": [
       "1548"
      ]
     },
     "execution_count": 2,
     "metadata": {},
     "output_type": "execute_result"
    }
   ],
   "source": [
    "test1_1_input = '''199\n",
    "200\n",
    "208\n",
    "210\n",
    "200\n",
    "207\n",
    "240\n",
    "269\n",
    "260\n",
    "263'''\n",
    "\n",
    "test1_1_output = 7\n",
    "\n",
    "def deeper(measurements):\n",
    "    count = 0\n",
    "    for i, depth in enumerate(measurements[1:]):\n",
    "        if depth > measurements[i]:\n",
    "            count += 1\n",
    "    return count\n",
    "\n",
    "assert deeper([*map(int, test1_1_input.split())]) == test1_1_output\n",
    "\n",
    "input1 = data(1, int)\n",
    "deeper(input1)"
   ]
  },
  {
   "cell_type": "markdown",
   "id": "educational-harvard",
   "metadata": {},
   "source": [
    "## Part 2\n",
    "\n",
    "The second part of the challenge is to use a sliding window of 3 measurements summed together and count the number of times when the measurements in this sliding window are greater than the previous sum."
   ]
  },
  {
   "cell_type": "code",
   "execution_count": 3,
   "id": "realistic-allergy",
   "metadata": {},
   "outputs": [
    {
     "data": {
      "text/plain": [
       "1589"
      ]
     },
     "execution_count": 3,
     "metadata": {},
     "output_type": "execute_result"
    }
   ],
   "source": [
    "test1_2_output = 5\n",
    "\n",
    "def deeper_sliding_window(measurements):\n",
    "    count = 0\n",
    "    for i, depth in enumerate(measurements[3:]):\n",
    "        if depth + measurements[i+1] + measurements[i+2] > sum(measurements[i:i+3]):\n",
    "            count += 1          \n",
    "    return count\n",
    "\n",
    "assert deeper_sliding_window([*map(int, test1_1_input.split())]) == test1_2_output\n",
    "\n",
    "input1 = data(1, int)\n",
    "deeper_sliding_window(input1)"
   ]
  },
  {
   "cell_type": "markdown",
   "id": "pleasant-backing",
   "metadata": {},
   "source": [
    "# Day 2: Dive!\n",
    "\n",
    "## Part 1"
   ]
  },
  {
   "cell_type": "code",
   "execution_count": 4,
   "id": "natural-sugar",
   "metadata": {},
   "outputs": [
    {
     "data": {
      "text/plain": [
       "1924923"
      ]
     },
     "execution_count": 4,
     "metadata": {},
     "output_type": "execute_result"
    }
   ],
   "source": [
    "test2_1_input = '''forward 5\n",
    "down 5\n",
    "forward 8\n",
    "up 3\n",
    "down 8\n",
    "forward 2'''\n",
    "\n",
    "test2_1_output = 150\n",
    "\n",
    "def parse_course(line) -> (str, int):\n",
    "    return line.split()[0], int(line.split()[1])\n",
    "\n",
    "def follow_course(course) -> int:\n",
    "    distance = 0\n",
    "    depth = 0\n",
    "    for instruction, value in course:\n",
    "        if instruction == 'forward':\n",
    "            distance += value\n",
    "        elif instruction == 'down':\n",
    "            depth += value\n",
    "        else:\n",
    "            depth -= value\n",
    "    return distance * depth\n",
    "\n",
    "assert follow_course([*map(parse_course, test2_1_input.split('\\n'))]) == test2_1_output\n",
    "\n",
    "input2 = data(2, parse_course)\n",
    "\n",
    "follow_course(input2)"
   ]
  },
  {
   "cell_type": "markdown",
   "id": "funny-ferry",
   "metadata": {},
   "source": [
    "## Part 2"
   ]
  },
  {
   "cell_type": "code",
   "execution_count": 5,
   "id": "grave-mountain",
   "metadata": {},
   "outputs": [
    {
     "data": {
      "text/plain": [
       "1982495697"
      ]
     },
     "execution_count": 5,
     "metadata": {},
     "output_type": "execute_result"
    }
   ],
   "source": [
    "test2_2_output = 900\n",
    "\n",
    "def follow_complex_course(course) -> int:\n",
    "    distance = 0\n",
    "    depth = 0\n",
    "    aim = 0\n",
    "    for instruction, value in course:\n",
    "        if instruction == 'forward':\n",
    "            distance += value\n",
    "            depth += (aim * value)\n",
    "        elif instruction == 'down':\n",
    "            aim += value\n",
    "        else:\n",
    "            aim -= value\n",
    "    return distance * depth\n",
    "\n",
    "assert follow_complex_course([*map(parse_course, test2_1_input.split('\\n'))]) == test2_2_output\n",
    "\n",
    "input2 = data(2, parse_course)\n",
    "\n",
    "follow_complex_course(input2)"
   ]
  },
  {
   "cell_type": "markdown",
   "id": "temporal-novel",
   "metadata": {},
   "source": [
    "# Day 3: Binary Diagnostic\n",
    "\n",
    "## Part 1"
   ]
  },
  {
   "cell_type": "code",
   "execution_count": 6,
   "id": "hired-composite",
   "metadata": {},
   "outputs": [
    {
     "data": {
      "text/plain": [
       "3320834"
      ]
     },
     "execution_count": 6,
     "metadata": {},
     "output_type": "execute_result"
    }
   ],
   "source": [
    "test3_1_input = '''00100\n",
    "11110\n",
    "10110\n",
    "10111\n",
    "10101\n",
    "01111\n",
    "00111\n",
    "11100\n",
    "10000\n",
    "11001\n",
    "00010\n",
    "01010'''\n",
    "\n",
    "test3_1_output = 198\n",
    "\n",
    "def check_power_consumption(binary_data) -> int:\n",
    "    counter = [0] * len(binary_data[0])\n",
    "    treshold = (len(binary_data) / 2)\n",
    "    for line in binary_data:\n",
    "        for i, digit in enumerate(line):\n",
    "            if digit == '1':\n",
    "                counter[i] += 1\n",
    "    gamma = [0] * len(counter)\n",
    "    for i in range(len(gamma)):\n",
    "        if counter[i] > treshold:\n",
    "            gamma[i] = 1\n",
    "    epsilon = [0] * len(gamma)\n",
    "    for i in range(len(epsilon)):\n",
    "        if gamma[i] == 1:\n",
    "            epsilon[i] = 0\n",
    "        else:\n",
    "            epsilon[i] = 1\n",
    "    \n",
    "    gamma = int(''.join(map(str, gamma)), 2)\n",
    "    epsilon = int(''.join(map(str, epsilon)), 2)\n",
    "    return gamma * epsilon\n",
    "\n",
    "assert check_power_consumption(test3_1_input.split()) == test3_1_output\n",
    "\n",
    "input3 = data(3)\n",
    "\n",
    "check_power_consumption(input3)"
   ]
  },
  {
   "cell_type": "markdown",
   "id": "electoral-memphis",
   "metadata": {},
   "source": [
    "## Part 2"
   ]
  },
  {
   "cell_type": "code",
   "execution_count": 7,
   "id": "qualified-vertex",
   "metadata": {},
   "outputs": [
    {
     "data": {
      "text/plain": [
       "4481199"
      ]
     },
     "execution_count": 7,
     "metadata": {},
     "output_type": "execute_result"
    }
   ],
   "source": [
    "test3_2_output = 230\n",
    "\n",
    "def verify_life_support_rating(binary_data) -> int:\n",
    "    oxygen_candidates = binary_data\n",
    "    co2_candidates = binary_data\n",
    "    counter = [0] * len(binary_data[0])\n",
    "    for i in range(len(counter)):\n",
    "        for line in oxygen_candidates:\n",
    "            if line[i] == '1':\n",
    "                counter[i] += 1\n",
    "        if len(oxygen_candidates) > 1:\n",
    "            oxygen_treshold = len(oxygen_candidates) / 2\n",
    "            if counter[i] >= oxygen_treshold:\n",
    "                oxygen_target = '1'\n",
    "            else:\n",
    "                oxygen_target = '0'\n",
    "            oxygen_candidates = [x for x in oxygen_candidates if x[i] == oxygen_target]\n",
    "        counter[i] = 0\n",
    "        for line in co2_candidates:\n",
    "            if line[i] == '1':\n",
    "                counter[i] += 1\n",
    "        if len(co2_candidates) > 1:\n",
    "            co2_treshold = len(co2_candidates) / 2\n",
    "            if counter[i] >= co2_treshold:\n",
    "                co2_target = '0'\n",
    "            else:\n",
    "                co2_target = '1'\n",
    "            co2_candidates = [x for x in co2_candidates if x[i] == co2_target]\n",
    "    \n",
    "    \n",
    "    oxygen = int(''.join(map(str, oxygen_candidates)), 2)\n",
    "    co2 = int(''.join(map(str, co2_candidates)), 2)\n",
    "    \n",
    "    return oxygen * co2\n",
    "\n",
    "assert verify_life_support_rating(test3_1_input.split()) == test3_2_output\n",
    "\n",
    "verify_life_support_rating(input3)"
   ]
  },
  {
   "cell_type": "markdown",
   "id": "small-territory",
   "metadata": {},
   "source": [
    "# Day 4: Giant Squid\n",
    "\n",
    "## Part 1"
   ]
  },
  {
   "cell_type": "code",
   "execution_count": 8,
   "id": "acoustic-stylus",
   "metadata": {},
   "outputs": [
    {
     "data": {
      "text/plain": [
       "74320"
      ]
     },
     "execution_count": 8,
     "metadata": {},
     "output_type": "execute_result"
    }
   ],
   "source": [
    "test4_1_input = '''7,4,9,5,11,17,23,2,0,14,21,24,10,16,13,6,15,25,12,22,18,20,8,19,3,26,1\n",
    "\n",
    "22 13 17 11  0\n",
    " 8  2 23  4 24\n",
    "21  9 14 16  7\n",
    " 6 10  3 18  5\n",
    " 1 12 20 15 19\n",
    "\n",
    " 3 15  0  2 22\n",
    " 9 18 13 17  5\n",
    "19  8  7 25 23\n",
    "20 11 10 24  4\n",
    "14 21 16 12  6\n",
    "\n",
    "14 21 17 24  4\n",
    "10 16 15  9 19\n",
    "18  8 23 26 20\n",
    "22 11 13  6  5\n",
    " 2  0 12  3  7'''\n",
    "\n",
    "test4_1_output = 4512\n",
    "\n",
    "def parse_boards(boards):\n",
    "    all_boards = []\n",
    "    for board in boards:\n",
    "        b = []\n",
    "        b.append(set([*map(int, board[:5])]))\n",
    "        b.append(set([*map(int, board[5:10])]))\n",
    "        b.append(set([*map(int, board[10:15])]))\n",
    "        b.append(set([*map(int, board[15:20])]))\n",
    "        b.append(set([*map(int, board[20:25])]))\n",
    "        b.append(set([*map(int, board[::5])]))\n",
    "        b.append(set([*map(int, board[1::5])]))\n",
    "        b.append(set([*map(int, board[2::5])]))\n",
    "        b.append(set([*map(int, board[3::5])]))\n",
    "        b.append(set([*map(int, board[4::5])]))\n",
    "        all_boards.append(b)\n",
    "    return all_boards\n",
    "\n",
    "def winning_board_score(numbers, boards) -> int:\n",
    "    for num in numbers:\n",
    "        for board in boards:\n",
    "            for rowcol in board:\n",
    "                rowcol.discard(num)\n",
    "                if len(rowcol) == 0:\n",
    "                    score = sum([*map(sum,(board[:5]))])\n",
    "                    return score * num\n",
    "\n",
    "test_nums = [*map(int,test4_1_input.split('\\n\\n')[0].split(','))]\n",
    "test_boards = [*map(str.split,test4_1_input.split('\\n\\n')[1:])]\n",
    "assert winning_board_score(test_nums, parse_boards(test_boards))\n",
    "\n",
    "input4 = data(4, sep='\\n\\n')\n",
    "nums = [*map(int, input4[0].split(','))]\n",
    "boards = [*map(str.split, input4[1:])]\n",
    "\n",
    "winning_board_score(nums, parse_boards(boards))"
   ]
  },
  {
   "cell_type": "markdown",
   "id": "interim-simpson",
   "metadata": {},
   "source": [
    "## Part 2"
   ]
  },
  {
   "cell_type": "code",
   "execution_count": 9,
   "id": "loved-engine",
   "metadata": {},
   "outputs": [
    {
     "data": {
      "text/plain": [
       "17884"
      ]
     },
     "execution_count": 9,
     "metadata": {},
     "output_type": "execute_result"
    }
   ],
   "source": [
    "test4_2_output = 1924\n",
    "\n",
    "def last_board_score(numbers, boards) -> int:\n",
    "    winning_boards = set()\n",
    "    for num in numbers:\n",
    "        for i, board in enumerate(boards):\n",
    "            for rowcol in board:\n",
    "                rowcol.discard(num)\n",
    "                if len(rowcol) == 0:\n",
    "                    winning_boards.add(i)\n",
    "                    if len(winning_boards) == len(boards):\n",
    "                        score = sum([*map(sum,(board[:5]))])\n",
    "                        return score * num \n",
    "\n",
    "\n",
    "assert last_board_score(test_nums, parse_boards(test_boards)) == test4_2_output\n",
    "\n",
    "input4 = data(4, sep='\\n\\n')\n",
    "nums = [*map(int, input4[0].split(','))]\n",
    "boards = [*map(str.split, input4[1:])]\n",
    "\n",
    "last_board_score(nums, parse_boards(boards))"
   ]
  },
  {
   "cell_type": "markdown",
   "id": "right-captain",
   "metadata": {},
   "source": [
    "# Day 5: Hydrothermal Venture\n",
    "\n",
    "## Part 1"
   ]
  },
  {
   "cell_type": "code",
   "execution_count": 10,
   "id": "widespread-bulletin",
   "metadata": {},
   "outputs": [
    {
     "data": {
      "text/plain": [
       "7297"
      ]
     },
     "execution_count": 10,
     "metadata": {},
     "output_type": "execute_result"
    }
   ],
   "source": [
    "test5_1_input = '''0,9 -> 5,9\n",
    "8,0 -> 0,8\n",
    "9,4 -> 3,4\n",
    "2,2 -> 2,1\n",
    "7,0 -> 7,4\n",
    "6,4 -> 2,0\n",
    "0,9 -> 2,9\n",
    "3,4 -> 1,4\n",
    "0,0 -> 8,8\n",
    "5,5 -> 8,2'''\n",
    "\n",
    "test5_1_output = 5\n",
    "\n",
    "def parse_lines(line):\n",
    "    first, second = line.split(' -> ')\n",
    "    first = first.split(',')\n",
    "    second = second.split(',')\n",
    "    return [*map(int,first)], [*map(int,second)]\n",
    "\n",
    "def count_overlapping_lines(points) -> int:\n",
    "    overlapping = Counter()\n",
    "    for pair in points:\n",
    "        x1, y1 = pair[0]\n",
    "        x2, y2 = pair[1]\n",
    "        if x1 == x2 or y1 == y2:\n",
    "            for x in range(min(x1,x2),max(x1,x2)+1):\n",
    "                for y in range(min(y1,y2),max(y1,y2)+1):\n",
    "                    overlapping[(x,y)] += 1\n",
    "    return sum(1 for v in overlapping.values() if v > 1)\n",
    "\n",
    "assert count_overlapping_lines([*map(parse_lines, test5_1_input.split('\\n'))]) == test5_1_output\n",
    "\n",
    "input5 = data(5, parse_lines)\n",
    "\n",
    "count_overlapping_lines(input5)"
   ]
  },
  {
   "cell_type": "markdown",
   "id": "expanded-greenhouse",
   "metadata": {},
   "source": [
    "## Part 2"
   ]
  },
  {
   "cell_type": "code",
   "execution_count": 11,
   "id": "related-cambridge",
   "metadata": {},
   "outputs": [
    {
     "data": {
      "text/plain": [
       "21038"
      ]
     },
     "execution_count": 11,
     "metadata": {},
     "output_type": "execute_result"
    }
   ],
   "source": [
    "test5_2_output = 12\n",
    "\n",
    "def count_overlapping_lines_diagonal(points) -> int:\n",
    "    overlapping = Counter()\n",
    "    for pair in points:\n",
    "        x1, y1 = pair[0]\n",
    "        x2, y2 = pair[1]\n",
    "        dx = 1 if x2>x1 else -1\n",
    "        dy = 1 if y2>y1 else -1\n",
    "        if x1 == x2:\n",
    "            dx = 0\n",
    "        if y1 == y2:\n",
    "            dy = 0\n",
    "        overlapping[(x1,y1)] += 1\n",
    "        while x1 != x2 or y1 != y2:\n",
    "            x1 += dx\n",
    "            y1 += dy\n",
    "            overlapping[(x1,y1)] += 1\n",
    "    return  sum(1 for v in overlapping.values() if v > 1)\n",
    "\n",
    "assert count_overlapping_lines_diagonal([*map(parse_lines, test5_1_input.split('\\n'))]) == test5_2_output\n",
    "\n",
    "input5 = data(5, parse_lines)\n",
    "\n",
    "count_overlapping_lines_diagonal(input5)"
   ]
  },
  {
   "cell_type": "markdown",
   "id": "worst-blame",
   "metadata": {},
   "source": [
    "# Day 6: Lanternfish\n",
    "\n",
    "## Part 1"
   ]
  },
  {
   "cell_type": "code",
   "execution_count": 59,
   "id": "capital-thomas",
   "metadata": {},
   "outputs": [
    {
     "data": {
      "text/plain": [
       "373378"
      ]
     },
     "execution_count": 59,
     "metadata": {},
     "output_type": "execute_result"
    }
   ],
   "source": [
    "test6_1_input = '3,4,3,1,2'\n",
    "\n",
    "test6_1_output1 = 26\n",
    "test6_1_output2 = 5934\n",
    "\n",
    "def simulate_lanternfish(fish, n=80) -> int:\n",
    "    fish_population = Counter(fish)\n",
    "    for day in range(n):\n",
    "        fish_population = simulate_day(fish_population)\n",
    "    return sum(fish_population.values())\n",
    "\n",
    "def simulate_day(fish):\n",
    "    new_population = Counter()\n",
    "    for f in range(1, 9):\n",
    "        new_population[f-1] = fish[f]\n",
    "    new_population[6] += fish[0]\n",
    "    new_population[8] = fish[0]\n",
    "    return new_population\n",
    "\n",
    "assert simulate_lanternfish([*map(int, test6_1_input.split(','))], 18) == test6_1_output1\n",
    "assert simulate_lanternfish([*map(int, test6_1_input.split(','))]) == test6_1_output2\n",
    "\n",
    "\n",
    "input6 = data(6,int,sep=',')\n",
    "\n",
    "simulate_lanternfish(input6)"
   ]
  },
  {
   "cell_type": "markdown",
   "id": "voluntary-producer",
   "metadata": {},
   "source": [
    "## Part 2"
   ]
  },
  {
   "cell_type": "code",
   "execution_count": 60,
   "id": "rural-feedback",
   "metadata": {},
   "outputs": [
    {
     "data": {
      "text/plain": [
       "1682576647495"
      ]
     },
     "execution_count": 60,
     "metadata": {},
     "output_type": "execute_result"
    }
   ],
   "source": [
    "test6_2_output = 26984457539\n",
    "\n",
    "assert simulate_lanternfish([*map(int, test6_1_input.split(','))], 256) == test6_2_output\n",
    "\n",
    "simulate_lanternfish(input6, 256)"
   ]
  },
  {
   "cell_type": "markdown",
   "id": "affecting-security",
   "metadata": {},
   "source": [
    "# Day 7"
   ]
  },
  {
   "cell_type": "code",
   "execution_count": null,
   "id": "sapphire-reverse",
   "metadata": {},
   "outputs": [],
   "source": []
  }
 ],
 "metadata": {
  "kernelspec": {
   "display_name": "Python 3",
   "language": "python",
   "name": "python3"
  },
  "language_info": {
   "codemirror_mode": {
    "name": "ipython",
    "version": 3
   },
   "file_extension": ".py",
   "mimetype": "text/x-python",
   "name": "python",
   "nbconvert_exporter": "python",
   "pygments_lexer": "ipython3",
   "version": "3.8.5"
  }
 },
 "nbformat": 4,
 "nbformat_minor": 5
}
