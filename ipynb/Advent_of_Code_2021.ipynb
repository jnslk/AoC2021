{
 "cells": [
  {
   "cell_type": "markdown",
   "id": "behavioral-stone",
   "metadata": {},
   "source": [
    "# Advent of Code\n",
    "\n",
    "This notebook contains my solutions for the 2021 version of [Advent of Code](https://adventofcode.com/2021).\n",
    "\n",
    "![Test Notebook](https://github.com/jnslk/AoC2021/workflows/test%20notebook/badge.svg)\n",
    "\n",
    "\n",
    "## Dataimport"
   ]
  },
  {
   "cell_type": "code",
   "execution_count": 1,
   "id": "fallen-discharge",
   "metadata": {},
   "outputs": [],
   "source": [
    "def data(day: int, parser=str, sep='\\n') -> list:\n",
    "    \"Split the day's input file into sections separated by `sep`, and apply `parser` function to each.\"\n",
    "    with open(f'../data/day{day}.txt') as f:\n",
    "        sections = f.read().rstrip().split(sep)\n",
    "        return list(map(parser, sections))"
   ]
  },
  {
   "cell_type": "markdown",
   "id": "sporting-preparation",
   "metadata": {},
   "source": [
    "# Day 1: Sonar Sweep\n",
    "\n",
    "## Part 1\n",
    "For the first puzzle we are provided with a list of depth measurements from sonar. The task is to count the number of depth measurements that are greater than the previously measured value. "
   ]
  },
  {
   "cell_type": "code",
   "execution_count": 2,
   "id": "patient-marking",
   "metadata": {},
   "outputs": [
    {
     "data": {
      "text/plain": [
       "1548"
      ]
     },
     "execution_count": 2,
     "metadata": {},
     "output_type": "execute_result"
    }
   ],
   "source": [
    "test1_1_input = '''199\n",
    "200\n",
    "208\n",
    "210\n",
    "200\n",
    "207\n",
    "240\n",
    "269\n",
    "260\n",
    "263'''\n",
    "\n",
    "test1_1_output = 7\n",
    "\n",
    "def deeper(measurements):\n",
    "    count = 0\n",
    "    for i, depth in enumerate(measurements[1:]):\n",
    "        if depth > measurements[i]:\n",
    "            count += 1\n",
    "    return count\n",
    "\n",
    "assert deeper([*map(int, test1_1_input.split())]) == test1_1_output\n",
    "\n",
    "input1 = data(1, int)\n",
    "deeper(input1)"
   ]
  },
  {
   "cell_type": "markdown",
   "id": "dynamic-heating",
   "metadata": {},
   "source": [
    "## Part 2\n",
    "\n",
    "The second part of the challenge is to use a sliding window of 3 measurements summed together and count the number of times when the measurements in this sliding window are greater than the previous sum."
   ]
  },
  {
   "cell_type": "code",
   "execution_count": 3,
   "id": "prompt-kingston",
   "metadata": {},
   "outputs": [
    {
     "data": {
      "text/plain": [
       "1589"
      ]
     },
     "execution_count": 3,
     "metadata": {},
     "output_type": "execute_result"
    }
   ],
   "source": [
    "test1_2_output = 5\n",
    "\n",
    "def deeper_sliding_window(measurements):\n",
    "    count = 0\n",
    "    for i, depth in enumerate(measurements[3:]):\n",
    "        if depth + measurements[i+1] + measurements[i+2] > sum(measurements[i:i+3]):\n",
    "            count += 1          \n",
    "    return count\n",
    "\n",
    "assert deeper_sliding_window([*map(int, test1_1_input.split())]) == test1_2_output\n",
    "\n",
    "input1 = data(1, int)\n",
    "deeper_sliding_window(input1)"
   ]
  },
  {
   "cell_type": "markdown",
   "id": "conceptual-presentation",
   "metadata": {},
   "source": [
    "# Day 2: Dive!\n",
    "\n",
    "## Part 1"
   ]
  },
  {
   "cell_type": "code",
   "execution_count": 4,
   "id": "tutorial-collapse",
   "metadata": {},
   "outputs": [
    {
     "data": {
      "text/plain": [
       "1924923"
      ]
     },
     "execution_count": 4,
     "metadata": {},
     "output_type": "execute_result"
    }
   ],
   "source": [
    "test2_1_input = '''forward 5\n",
    "down 5\n",
    "forward 8\n",
    "up 3\n",
    "down 8\n",
    "forward 2'''\n",
    "\n",
    "test2_1_output = 150\n",
    "\n",
    "def parse_course(line) -> (str, int):\n",
    "    return line.split()[0], int(line.split()[1])\n",
    "\n",
    "def follow_course(course) -> int:\n",
    "    distance = 0\n",
    "    depth = 0\n",
    "    for instruction, value in course:\n",
    "        if instruction == 'forward':\n",
    "            distance += value\n",
    "        elif instruction == 'down':\n",
    "            depth += value\n",
    "        else:\n",
    "            depth -= value\n",
    "    return distance * depth\n",
    "\n",
    "assert follow_course([*map(parse_course, test2_1_input.split('\\n'))]) == test2_1_output\n",
    "\n",
    "input2 = data(2, parse_course)\n",
    "\n",
    "follow_course(input2)"
   ]
  },
  {
   "cell_type": "markdown",
   "id": "indian-philadelphia",
   "metadata": {},
   "source": [
    "## Part 2"
   ]
  },
  {
   "cell_type": "code",
   "execution_count": 5,
   "id": "aggregate-beginning",
   "metadata": {},
   "outputs": [
    {
     "data": {
      "text/plain": [
       "1982495697"
      ]
     },
     "execution_count": 5,
     "metadata": {},
     "output_type": "execute_result"
    }
   ],
   "source": [
    "test2_2_output = 900\n",
    "\n",
    "def follow_complex_course(course) -> int:\n",
    "    distance = 0\n",
    "    depth = 0\n",
    "    aim = 0\n",
    "    for instruction, value in course:\n",
    "        if instruction == 'forward':\n",
    "            distance += value\n",
    "            depth += (aim * value)\n",
    "        elif instruction == 'down':\n",
    "            aim += value\n",
    "        else:\n",
    "            aim -= value\n",
    "    return distance * depth\n",
    "\n",
    "assert follow_complex_course([*map(parse_course, test2_1_input.split('\\n'))]) == test2_2_output\n",
    "\n",
    "input2 = data(2, parse_course)\n",
    "\n",
    "follow_complex_course(input2)"
   ]
  },
  {
   "cell_type": "markdown",
   "id": "compound-kitchen",
   "metadata": {},
   "source": [
    "# Day 3: Binary Diagnostic\n",
    "\n",
    "## Part 1"
   ]
  },
  {
   "cell_type": "code",
   "execution_count": 59,
   "id": "dedicated-volume",
   "metadata": {},
   "outputs": [
    {
     "data": {
      "text/plain": [
       "3320834"
      ]
     },
     "execution_count": 59,
     "metadata": {},
     "output_type": "execute_result"
    }
   ],
   "source": [
    "test3_1_input = '''00100\n",
    "11110\n",
    "10110\n",
    "10111\n",
    "10101\n",
    "01111\n",
    "00111\n",
    "11100\n",
    "10000\n",
    "11001\n",
    "00010\n",
    "01010'''\n",
    "\n",
    "test3_1_output = 198\n",
    "\n",
    "def check_power_consumption(binary_data) -> int:\n",
    "    counter = [0] * len(binary_data[0])\n",
    "    treshold = (len(binary_data) / 2)\n",
    "    for line in binary_data:\n",
    "        for i, digit in enumerate(line):\n",
    "            if digit == '1':\n",
    "                counter[i] += 1\n",
    "    gamma = [0] * len(counter)\n",
    "    for i in range(len(gamma)):\n",
    "        if counter[i] > treshold:\n",
    "            gamma[i] = 1\n",
    "    epsilon = [0] * len(gamma)\n",
    "    for i in range(len(epsilon)):\n",
    "        if gamma[i] == 1:\n",
    "            epsilon[i] = 0\n",
    "        else:\n",
    "            epsilon[i] = 1\n",
    "    \n",
    "    gamma = int(''.join(map(str, gamma)), 2)\n",
    "    epsilon = int(''.join(map(str, epsilon)), 2)\n",
    "    return gamma * epsilon\n",
    "\n",
    "assert check_power_consumption(test3_1_input.split()) == test3_1_output\n",
    "\n",
    "input3 = data(3)\n",
    "\n",
    "check_power_consumption(input3)"
   ]
  },
  {
   "cell_type": "markdown",
   "id": "binary-jungle",
   "metadata": {},
   "source": [
    "## Part 2"
   ]
  },
  {
   "cell_type": "code",
   "execution_count": 137,
   "id": "wanted-setup",
   "metadata": {},
   "outputs": [
    {
     "data": {
      "text/plain": [
       "4481199"
      ]
     },
     "execution_count": 137,
     "metadata": {},
     "output_type": "execute_result"
    }
   ],
   "source": [
    "test3_2_output = 230\n",
    "\n",
    "def verify_life_support_rating(binary_data) -> int:\n",
    "    oxygen_candidates = binary_data\n",
    "    co2_candidates = binary_data\n",
    "    counter = [0] * len(binary_data[0])\n",
    "    for i in range(len(counter)):\n",
    "        for line in oxygen_candidates:\n",
    "            if line[i] == '1':\n",
    "                counter[i] += 1\n",
    "        if len(oxygen_candidates) > 1:\n",
    "            oxygen_treshold = len(oxygen_candidates) / 2\n",
    "            if counter[i] >= oxygen_treshold:\n",
    "                oxygen_target = '1'\n",
    "            else:\n",
    "                oxygen_target = '0'\n",
    "            oxygen_candidates = [x for x in oxygen_candidates if x[i] == oxygen_target]\n",
    "        counter[i] = 0\n",
    "        for line in co2_candidates:\n",
    "            if line[i] == '1':\n",
    "                counter[i] += 1\n",
    "        if len(co2_candidates) > 1:\n",
    "            co2_treshold = len(co2_candidates) / 2\n",
    "            if counter[i] >= co2_treshold:\n",
    "                co2_target = '0'\n",
    "            else:\n",
    "                co2_target = '1'\n",
    "            co2_candidates = [x for x in co2_candidates if x[i] == co2_target]\n",
    "    \n",
    "    \n",
    "    oxygen = int(''.join(map(str, oxygen_candidates)), 2)\n",
    "    co2 = int(''.join(map(str, co2_candidates)), 2)\n",
    "    \n",
    "    return oxygen * co2\n",
    "\n",
    "assert verify_life_support_rating(test3_1_input.split()) == test3_2_output\n",
    "\n",
    "verify_life_support_rating(input3)"
   ]
  },
  {
   "cell_type": "markdown",
   "id": "upper-sauce",
   "metadata": {},
   "source": [
    "# Day 4"
   ]
  }
 ],
 "metadata": {
  "kernelspec": {
   "display_name": "Python 3",
   "language": "python",
   "name": "python3"
  },
  "language_info": {
   "codemirror_mode": {
    "name": "ipython",
    "version": 3
   },
   "file_extension": ".py",
   "mimetype": "text/x-python",
   "name": "python",
   "nbconvert_exporter": "python",
   "pygments_lexer": "ipython3",
   "version": "3.8.5"
  }
 },
 "nbformat": 4,
 "nbformat_minor": 5
}
