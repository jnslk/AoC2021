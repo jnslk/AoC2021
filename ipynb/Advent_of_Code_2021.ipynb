{
 "cells": [
  {
   "cell_type": "markdown",
   "id": "frank-contrary",
   "metadata": {},
   "source": [
    "# Advent of Code\n",
    "\n",
    "This notebook contains my solutions for the 2021 version of [Advent of Code](https://adventofcode.com/2021).\n",
    "\n",
    "![Test Notebook](https://github.com/jnslk/AoC2021/workflows/test%20notebook/badge.svg)\n",
    "\n",
    "\n",
    "## Dataimport"
   ]
  },
  {
   "cell_type": "code",
   "execution_count": 1,
   "id": "featured-relevance",
   "metadata": {},
   "outputs": [],
   "source": [
    "def data(day: int, parser=str, sep='\\n') -> list:\n",
    "    \"Split the day's input file into sections separated by `sep`, and apply `parser` function to each.\"\n",
    "    with open(f'../data/day{day}.txt') as f:\n",
    "        sections = f.read().rstrip().split(sep)\n",
    "        return list(map(parser, sections))"
   ]
  },
  {
   "cell_type": "markdown",
   "id": "accurate-pierre",
   "metadata": {},
   "source": [
    "# Day 1: Sonar Sweep"
   ]
  },
  {
   "cell_type": "markdown",
   "id": "divine-disaster",
   "metadata": {},
   "source": [
    "## Part 1\n",
    "For the first puzzle we are provided with a list of depth measurements from sonar. The task is to count the number of depth measurements that are greater than the previously measured value. "
   ]
  },
  {
   "cell_type": "code",
   "execution_count": 81,
   "id": "intimate-psychology",
   "metadata": {},
   "outputs": [
    {
     "data": {
      "text/plain": [
       "1548"
      ]
     },
     "execution_count": 81,
     "metadata": {},
     "output_type": "execute_result"
    }
   ],
   "source": [
    "test1_1_input = '''199\n",
    "200\n",
    "208\n",
    "210\n",
    "200\n",
    "207\n",
    "240\n",
    "269\n",
    "260\n",
    "263'''\n",
    "\n",
    "test1_1_output = 7\n",
    "\n",
    "def deeper(measurements):\n",
    "    count = 0\n",
    "    for i, depth in enumerate(measurements[1:]):\n",
    "        if depth > measurements[i]:\n",
    "            count += 1\n",
    "    return count\n",
    "\n",
    "assert deeper([*map(int, test1_1_input.split())]) == test1_1_output\n",
    "\n",
    "input1 = data(1, int)\n",
    "deeper(input1)"
   ]
  },
  {
   "cell_type": "markdown",
   "id": "loose-objective",
   "metadata": {},
   "source": [
    "## Part 2\n",
    "\n",
    "The second part of the challenge is to use a sliding window of 3 measurements summed together and count the number of times when the measurements in this sliding window are greater than the previous sum."
   ]
  },
  {
   "cell_type": "code",
   "execution_count": 84,
   "id": "linear-bacon",
   "metadata": {},
   "outputs": [
    {
     "data": {
      "text/plain": [
       "1589"
      ]
     },
     "execution_count": 84,
     "metadata": {},
     "output_type": "execute_result"
    }
   ],
   "source": [
    "test1_2_output = 5\n",
    "\n",
    "def deeper_sliding_window(measurements):\n",
    "    count = 0\n",
    "    for i, depth in enumerate(measurements[3:]):\n",
    "        if depth + measurements[i+1] + measurements[i+2] > sum(measurements[i:i+3]):\n",
    "            count += 1          \n",
    "    return count\n",
    "\n",
    "assert deeper_sliding_window([*map(int, test1_1_input.split())]) == test1_2_output\n",
    "\n",
    "input1 = data(1, int)\n",
    "deeper_sliding_window(input1)"
   ]
  },
  {
   "cell_type": "markdown",
   "id": "involved-quilt",
   "metadata": {},
   "source": [
    "# Day 2"
   ]
  },
  {
   "cell_type": "code",
   "execution_count": null,
   "id": "korean-masters",
   "metadata": {},
   "outputs": [],
   "source": []
  }
 ],
 "metadata": {
  "kernelspec": {
   "display_name": "Python 3",
   "language": "python",
   "name": "python3"
  },
  "language_info": {
   "codemirror_mode": {
    "name": "ipython",
    "version": 3
   },
   "file_extension": ".py",
   "mimetype": "text/x-python",
   "name": "python",
   "nbconvert_exporter": "python",
   "pygments_lexer": "ipython3",
   "version": "3.8.5"
  }
 },
 "nbformat": 4,
 "nbformat_minor": 5
}
