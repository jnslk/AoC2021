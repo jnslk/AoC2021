{
 "cells": [
  {
   "cell_type": "markdown",
   "id": "classified-enforcement",
   "metadata": {},
   "source": [
    "# Advent of Code\n",
    "\n",
    "This notebook contains my solutions for the 2021 version of [Advent of Code](https://adventofcode.com/2021).\n",
    "\n",
    "![Test Notebook](https://github.com/jnslk/AoC2021/workflows/test%20notebook/badge.svg)\n",
    "\n",
    "\n",
    "## Dataimport"
   ]
  },
  {
   "cell_type": "code",
   "execution_count": 1,
   "id": "native-jacket",
   "metadata": {},
   "outputs": [],
   "source": [
    "def data(day: int, parser=str, sep='\\n') -> list:\n",
    "    \"Split the day's input file into sections separated by `sep`, and apply `parser` function to each.\"\n",
    "    with open(f'../data/day{day}.txt') as f:\n",
    "        sections = f.read().rstrip().split(sep)\n",
    "        return list(map(parser, sections))"
   ]
  },
  {
   "cell_type": "markdown",
   "id": "filled-scott",
   "metadata": {},
   "source": [
    "# Day 1: Sonar Sweep\n",
    "\n",
    "## Part 1\n",
    "For the first puzzle we are provided with a list of depth measurements from sonar. The task is to count the number of depth measurements that are greater than the previously measured value. "
   ]
  },
  {
   "cell_type": "code",
   "execution_count": 2,
   "id": "promising-plaza",
   "metadata": {},
   "outputs": [
    {
     "data": {
      "text/plain": [
       "1548"
      ]
     },
     "execution_count": 2,
     "metadata": {},
     "output_type": "execute_result"
    }
   ],
   "source": [
    "test1_1_input = '''199\n",
    "200\n",
    "208\n",
    "210\n",
    "200\n",
    "207\n",
    "240\n",
    "269\n",
    "260\n",
    "263'''\n",
    "\n",
    "test1_1_output = 7\n",
    "\n",
    "def deeper(measurements):\n",
    "    count = 0\n",
    "    for i, depth in enumerate(measurements[1:]):\n",
    "        if depth > measurements[i]:\n",
    "            count += 1\n",
    "    return count\n",
    "\n",
    "assert deeper([*map(int, test1_1_input.split())]) == test1_1_output\n",
    "\n",
    "input1 = data(1, int)\n",
    "deeper(input1)"
   ]
  },
  {
   "cell_type": "markdown",
   "id": "suitable-challenge",
   "metadata": {},
   "source": [
    "## Part 2\n",
    "\n",
    "The second part of the challenge is to use a sliding window of 3 measurements summed together and count the number of times when the measurements in this sliding window are greater than the previous sum."
   ]
  },
  {
   "cell_type": "code",
   "execution_count": 3,
   "id": "terminal-workshop",
   "metadata": {},
   "outputs": [
    {
     "data": {
      "text/plain": [
       "1589"
      ]
     },
     "execution_count": 3,
     "metadata": {},
     "output_type": "execute_result"
    }
   ],
   "source": [
    "test1_2_output = 5\n",
    "\n",
    "def deeper_sliding_window(measurements):\n",
    "    count = 0\n",
    "    for i, depth in enumerate(measurements[3:]):\n",
    "        if depth + measurements[i+1] + measurements[i+2] > sum(measurements[i:i+3]):\n",
    "            count += 1          \n",
    "    return count\n",
    "\n",
    "assert deeper_sliding_window([*map(int, test1_1_input.split())]) == test1_2_output\n",
    "\n",
    "input1 = data(1, int)\n",
    "deeper_sliding_window(input1)"
   ]
  },
  {
   "cell_type": "markdown",
   "id": "departmental-kruger",
   "metadata": {},
   "source": [
    "# Day 2: Dive!\n",
    "\n",
    "## Part 1"
   ]
  },
  {
   "cell_type": "code",
   "execution_count": 4,
   "id": "soviet-rating",
   "metadata": {},
   "outputs": [
    {
     "data": {
      "text/plain": [
       "1924923"
      ]
     },
     "execution_count": 4,
     "metadata": {},
     "output_type": "execute_result"
    }
   ],
   "source": [
    "test2_1_input = '''forward 5\n",
    "down 5\n",
    "forward 8\n",
    "up 3\n",
    "down 8\n",
    "forward 2'''\n",
    "\n",
    "test2_1_output = 150\n",
    "\n",
    "def parse_course(line) -> (str, int):\n",
    "    return line.split()[0], int(line.split()[1])\n",
    "\n",
    "def follow_course(course) -> int:\n",
    "    distance = 0\n",
    "    depth = 0\n",
    "    for instruction, value in course:\n",
    "        if instruction == 'forward':\n",
    "            distance += value\n",
    "        elif instruction == 'down':\n",
    "            depth += value\n",
    "        else:\n",
    "            depth -= value\n",
    "    return distance * depth\n",
    "\n",
    "assert follow_course([*map(parse_course, test2_1_input.split('\\n'))]) == test2_1_output\n",
    "\n",
    "input2 = data(2, parse_course)\n",
    "\n",
    "follow_course(input2)"
   ]
  },
  {
   "cell_type": "markdown",
   "id": "italic-technology",
   "metadata": {},
   "source": [
    "## Part 2"
   ]
  },
  {
   "cell_type": "code",
   "execution_count": 5,
   "id": "rational-correspondence",
   "metadata": {},
   "outputs": [
    {
     "data": {
      "text/plain": [
       "1982495697"
      ]
     },
     "execution_count": 5,
     "metadata": {},
     "output_type": "execute_result"
    }
   ],
   "source": [
    "test2_2_output = 900\n",
    "\n",
    "def follow_complex_course(course) -> int:\n",
    "    distance = 0\n",
    "    depth = 0\n",
    "    aim = 0\n",
    "    for instruction, value in course:\n",
    "        if instruction == 'forward':\n",
    "            distance += value\n",
    "            depth += (aim * value)\n",
    "        elif instruction == 'down':\n",
    "            aim += value\n",
    "        else:\n",
    "            aim -= value\n",
    "    return distance * depth\n",
    "\n",
    "assert follow_complex_course([*map(parse_course, test2_1_input.split('\\n'))]) == test2_2_output\n",
    "\n",
    "input2 = data(2, parse_course)\n",
    "\n",
    "follow_complex_course(input2)"
   ]
  },
  {
   "cell_type": "markdown",
   "id": "funky-rings",
   "metadata": {},
   "source": [
    "# Day 3: Binary Diagnostic\n",
    "\n",
    "## Part 1"
   ]
  },
  {
   "cell_type": "code",
   "execution_count": 6,
   "id": "danish-cornell",
   "metadata": {},
   "outputs": [
    {
     "data": {
      "text/plain": [
       "3320834"
      ]
     },
     "execution_count": 6,
     "metadata": {},
     "output_type": "execute_result"
    }
   ],
   "source": [
    "test3_1_input = '''00100\n",
    "11110\n",
    "10110\n",
    "10111\n",
    "10101\n",
    "01111\n",
    "00111\n",
    "11100\n",
    "10000\n",
    "11001\n",
    "00010\n",
    "01010'''\n",
    "\n",
    "test3_1_output = 198\n",
    "\n",
    "def check_power_consumption(binary_data) -> int:\n",
    "    counter = [0] * len(binary_data[0])\n",
    "    treshold = (len(binary_data) / 2)\n",
    "    for line in binary_data:\n",
    "        for i, digit in enumerate(line):\n",
    "            if digit == '1':\n",
    "                counter[i] += 1\n",
    "    gamma = [0] * len(counter)\n",
    "    for i in range(len(gamma)):\n",
    "        if counter[i] > treshold:\n",
    "            gamma[i] = 1\n",
    "    epsilon = [0] * len(gamma)\n",
    "    for i in range(len(epsilon)):\n",
    "        if gamma[i] == 1:\n",
    "            epsilon[i] = 0\n",
    "        else:\n",
    "            epsilon[i] = 1\n",
    "    \n",
    "    gamma = int(''.join(map(str, gamma)), 2)\n",
    "    epsilon = int(''.join(map(str, epsilon)), 2)\n",
    "    return gamma * epsilon\n",
    "\n",
    "assert check_power_consumption(test3_1_input.split()) == test3_1_output\n",
    "\n",
    "input3 = data(3)\n",
    "\n",
    "check_power_consumption(input3)"
   ]
  },
  {
   "cell_type": "markdown",
   "id": "ranging-milton",
   "metadata": {},
   "source": [
    "## Part 2"
   ]
  },
  {
   "cell_type": "code",
   "execution_count": 7,
   "id": "placed-impossible",
   "metadata": {},
   "outputs": [
    {
     "data": {
      "text/plain": [
       "4481199"
      ]
     },
     "execution_count": 7,
     "metadata": {},
     "output_type": "execute_result"
    }
   ],
   "source": [
    "test3_2_output = 230\n",
    "\n",
    "def verify_life_support_rating(binary_data) -> int:\n",
    "    oxygen_candidates = binary_data\n",
    "    co2_candidates = binary_data\n",
    "    counter = [0] * len(binary_data[0])\n",
    "    for i in range(len(counter)):\n",
    "        for line in oxygen_candidates:\n",
    "            if line[i] == '1':\n",
    "                counter[i] += 1\n",
    "        if len(oxygen_candidates) > 1:\n",
    "            oxygen_treshold = len(oxygen_candidates) / 2\n",
    "            if counter[i] >= oxygen_treshold:\n",
    "                oxygen_target = '1'\n",
    "            else:\n",
    "                oxygen_target = '0'\n",
    "            oxygen_candidates = [x for x in oxygen_candidates if x[i] == oxygen_target]\n",
    "        counter[i] = 0\n",
    "        for line in co2_candidates:\n",
    "            if line[i] == '1':\n",
    "                counter[i] += 1\n",
    "        if len(co2_candidates) > 1:\n",
    "            co2_treshold = len(co2_candidates) / 2\n",
    "            if counter[i] >= co2_treshold:\n",
    "                co2_target = '0'\n",
    "            else:\n",
    "                co2_target = '1'\n",
    "            co2_candidates = [x for x in co2_candidates if x[i] == co2_target]\n",
    "    \n",
    "    \n",
    "    oxygen = int(''.join(map(str, oxygen_candidates)), 2)\n",
    "    co2 = int(''.join(map(str, co2_candidates)), 2)\n",
    "    \n",
    "    return oxygen * co2\n",
    "\n",
    "assert verify_life_support_rating(test3_1_input.split()) == test3_2_output\n",
    "\n",
    "verify_life_support_rating(input3)"
   ]
  },
  {
   "cell_type": "markdown",
   "id": "republican-capitol",
   "metadata": {},
   "source": [
    "# Day 4: Giant Squid\n",
    "\n",
    "## Part 1"
   ]
  },
  {
   "cell_type": "code",
   "execution_count": 165,
   "id": "under-destination",
   "metadata": {},
   "outputs": [
    {
     "data": {
      "text/plain": [
       "74320"
      ]
     },
     "execution_count": 165,
     "metadata": {},
     "output_type": "execute_result"
    }
   ],
   "source": [
    "test4_1_input = '''7,4,9,5,11,17,23,2,0,14,21,24,10,16,13,6,15,25,12,22,18,20,8,19,3,26,1\n",
    "\n",
    "22 13 17 11  0\n",
    " 8  2 23  4 24\n",
    "21  9 14 16  7\n",
    " 6 10  3 18  5\n",
    " 1 12 20 15 19\n",
    "\n",
    " 3 15  0  2 22\n",
    " 9 18 13 17  5\n",
    "19  8  7 25 23\n",
    "20 11 10 24  4\n",
    "14 21 16 12  6\n",
    "\n",
    "14 21 17 24  4\n",
    "10 16 15  9 19\n",
    "18  8 23 26 20\n",
    "22 11 13  6  5\n",
    " 2  0 12  3  7'''\n",
    "\n",
    "test4_1_output = 4512\n",
    "\n",
    "def parse_boards(boards):\n",
    "    all_boards = []\n",
    "    for board in boards:\n",
    "        b = []\n",
    "        b.append(set([*map(int, board[:5])]))\n",
    "        b.append(set([*map(int, board[5:10])]))\n",
    "        b.append(set([*map(int, board[10:15])]))\n",
    "        b.append(set([*map(int, board[15:20])]))\n",
    "        b.append(set([*map(int, board[20:25])]))\n",
    "        b.append(set([*map(int, board[::5])]))\n",
    "        b.append(set([*map(int, board[1::5])]))\n",
    "        b.append(set([*map(int, board[2::5])]))\n",
    "        b.append(set([*map(int, board[3::5])]))\n",
    "        b.append(set([*map(int, board[4::5])]))\n",
    "        all_boards.append(b)\n",
    "    return all_boards\n",
    "\n",
    "def winning_board_score(numbers, boards) -> int:\n",
    "    indices = set()\n",
    "    for num in numbers:\n",
    "        for i, board in enumerate(boards):\n",
    "            for rowcol in board:\n",
    "                rowcol.discard(num)\n",
    "                if len(rowcol) == 0:\n",
    "                    indices.\n",
    "                    score = sum([*map(sum,(board[:5]))])\n",
    "                    return score * num\n",
    "\n",
    "test_nums = [*map(int,test4_1_input.split('\\n\\n')[0].split(','))]\n",
    "test_boards = [*map(str.split,test4_1_input.split('\\n\\n')[1:])]\n",
    "assert winning_board_score(test_nums, parse_boards(test_boards))\n",
    "\n",
    "input4 = data(4, sep='\\n\\n')\n",
    "nums = [*map(int, input4[0].split(','))]\n",
    "boards = [*map(str.split, input4[1:])]\n",
    "\n",
    "winning_board_score(nums, parse_boards(boards))"
   ]
  },
  {
   "cell_type": "markdown",
   "id": "systematic-moore",
   "metadata": {},
   "source": [
    "## Part 2"
   ]
  },
  {
   "cell_type": "code",
   "execution_count": 211,
   "id": "understanding-fancy",
   "metadata": {},
   "outputs": [
    {
     "data": {
      "text/plain": [
       "17884"
      ]
     },
     "execution_count": 211,
     "metadata": {},
     "output_type": "execute_result"
    }
   ],
   "source": [
    "test4_2_output = 1924\n",
    "\n",
    "def last_board_score(numbers, boards) -> int:\n",
    "    winning_boards = set()\n",
    "    for num in numbers:\n",
    "        for i, board in enumerate(boards):\n",
    "            for rowcol in board:\n",
    "                rowcol.discard(num)\n",
    "                if len(rowcol) == 0:\n",
    "                    winning_boards.add(i)\n",
    "                    if len(winning_boards) == len(boards):\n",
    "                        score = sum([*map(sum,(board[:5]))])\n",
    "                        return score * num \n",
    "\n",
    "\n",
    "assert last_board_score(test_nums, parse_boards(test_boards)) == test4_2_output\n",
    "\n",
    "input4 = data(4, sep='\\n\\n')\n",
    "nums = [*map(int, input4[0].split(','))]\n",
    "boards = [*map(str.split, input4[1:])]\n",
    "\n",
    "last_board_score(nums, parse_boards(boards))"
   ]
  },
  {
   "cell_type": "code",
   "execution_count": null,
   "id": "brave-excess",
   "metadata": {},
   "outputs": [],
   "source": []
  }
 ],
 "metadata": {
  "kernelspec": {
   "display_name": "Python 3",
   "language": "python",
   "name": "python3"
  },
  "language_info": {
   "codemirror_mode": {
    "name": "ipython",
    "version": 3
   },
   "file_extension": ".py",
   "mimetype": "text/x-python",
   "name": "python",
   "nbconvert_exporter": "python",
   "pygments_lexer": "ipython3",
   "version": "3.8.5"
  }
 },
 "nbformat": 4,
 "nbformat_minor": 5
}
