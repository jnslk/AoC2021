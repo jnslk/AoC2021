{
 "cells": [
  {
   "cell_type": "markdown",
   "id": "existing-monroe",
   "metadata": {},
   "source": [
    "# Advent of Code\n",
    "\n",
    "This notebook contains my solutions for the 2021 version of [Advent of Code](https://adventofcode.com/2021).\n",
    "\n",
    "![Test Notebook](https://github.com/jnslk/AoC2021/workflows/test%20notebook/badge.svg)\n",
    "\n",
    "\n",
    "## Dataimport"
   ]
  },
  {
   "cell_type": "code",
   "execution_count": 1,
   "id": "baking-force",
   "metadata": {},
   "outputs": [],
   "source": [
    "def data(day: int, parser=str, sep='\\n') -> list:\n",
    "    \"Split the day's input file into sections separated by `sep`, and apply `parser` function to each.\"\n",
    "    with open(f'../data/day{day}.txt') as f:\n",
    "        sections = f.read().rstrip().split(sep)\n",
    "        return list(map(parser, sections))"
   ]
  },
  {
   "cell_type": "markdown",
   "id": "classical-alloy",
   "metadata": {},
   "source": [
    "# Day 1: Sonar Sweep"
   ]
  },
  {
   "cell_type": "markdown",
   "id": "monetary-agenda",
   "metadata": {},
   "source": [
    "## Part 1\n",
    "For the first puzzle we are provided with a list of depth measurements from sonar. The task is to count the number of depth measurements that are greater than the previously measured value. "
   ]
  },
  {
   "cell_type": "code",
   "execution_count": 2,
   "id": "printable-vacation",
   "metadata": {},
   "outputs": [
    {
     "data": {
      "text/plain": [
       "1548"
      ]
     },
     "execution_count": 2,
     "metadata": {},
     "output_type": "execute_result"
    }
   ],
   "source": [
    "test1_1_input = '''199\n",
    "200\n",
    "208\n",
    "210\n",
    "200\n",
    "207\n",
    "240\n",
    "269\n",
    "260\n",
    "263'''\n",
    "\n",
    "test1_1_output = 7\n",
    "\n",
    "def deeper(measurements):\n",
    "    count = 0\n",
    "    for i, depth in enumerate(measurements[1:]):\n",
    "        if depth > measurements[i]:\n",
    "            count += 1\n",
    "    return count\n",
    "\n",
    "assert deeper([*map(int, test1_1_input.split())]) == test1_1_output\n",
    "\n",
    "input1 = data(1, int)\n",
    "deeper(input1)"
   ]
  },
  {
   "cell_type": "markdown",
   "id": "secure-twenty",
   "metadata": {},
   "source": [
    "## Part 2\n",
    "\n",
    "The second part of the challenge is to use a sliding window of 3 measurements summed together and count the number of times when the measurements in this sliding window are greater than the previous sum."
   ]
  },
  {
   "cell_type": "code",
   "execution_count": 3,
   "id": "fabulous-mobility",
   "metadata": {},
   "outputs": [
    {
     "data": {
      "text/plain": [
       "1589"
      ]
     },
     "execution_count": 3,
     "metadata": {},
     "output_type": "execute_result"
    }
   ],
   "source": [
    "test1_2_output = 5\n",
    "\n",
    "def deeper_sliding_window(measurements):\n",
    "    count = 0\n",
    "    for i, depth in enumerate(measurements[3:]):\n",
    "        if depth + measurements[i+1] + measurements[i+2] > sum(measurements[i:i+3]):\n",
    "            count += 1          \n",
    "    return count\n",
    "\n",
    "assert deeper_sliding_window([*map(int, test1_1_input.split())]) == test1_2_output\n",
    "\n",
    "input1 = data(1, int)\n",
    "deeper_sliding_window(input1)"
   ]
  },
  {
   "cell_type": "markdown",
   "id": "sufficient-skiing",
   "metadata": {},
   "source": [
    "# Day 2: Dive!"
   ]
  },
  {
   "cell_type": "markdown",
   "id": "confidential-cornwall",
   "metadata": {},
   "source": [
    "## Part 1\n"
   ]
  },
  {
   "cell_type": "code",
   "execution_count": 31,
   "id": "effective-majority",
   "metadata": {},
   "outputs": [
    {
     "data": {
      "text/plain": [
       "1924923"
      ]
     },
     "execution_count": 31,
     "metadata": {},
     "output_type": "execute_result"
    }
   ],
   "source": [
    "test2_1_input = '''forward 5\n",
    "down 5\n",
    "forward 8\n",
    "up 3\n",
    "down 8\n",
    "forward 2'''\n",
    "\n",
    "test2_1_output = 150\n",
    "\n",
    "def parse_course(line) -> (str, int):\n",
    "    return line.split()[0], int(line.split()[1])\n",
    "\n",
    "def follow_course(course) -> int:\n",
    "    distance = 0\n",
    "    depth = 0\n",
    "    for instruction, value in course:\n",
    "        if instruction == 'forward':\n",
    "            distance += value\n",
    "        elif instruction == 'down':\n",
    "            depth += value\n",
    "        else:\n",
    "            depth -= value\n",
    "    return distance * depth\n",
    "\n",
    "assert follow_course([*map(parse_course, test2_1_input.split('\\n'))]) == test2_1_output\n",
    "\n",
    "input2 = data(2, parse_course)\n",
    "\n",
    "follow_course(input2)"
   ]
  },
  {
   "cell_type": "markdown",
   "id": "assured-mattress",
   "metadata": {},
   "source": [
    "## Part 2"
   ]
  },
  {
   "cell_type": "code",
   "execution_count": 39,
   "id": "planned-emperor",
   "metadata": {},
   "outputs": [
    {
     "data": {
      "text/plain": [
       "1982495697"
      ]
     },
     "execution_count": 39,
     "metadata": {},
     "output_type": "execute_result"
    }
   ],
   "source": [
    "test2_2_output = 900\n",
    "\n",
    "def follow_complex_course(course) -> int:\n",
    "    distance = 0\n",
    "    depth = 0\n",
    "    aim = 0\n",
    "    for instruction, value in course:\n",
    "        if instruction == 'forward':\n",
    "            distance += value\n",
    "            depth += (aim * value)\n",
    "        elif instruction == 'down':\n",
    "            aim += value\n",
    "        else:\n",
    "            aim -= value\n",
    "    return distance * depth\n",
    "\n",
    "assert follow_complex_course([*map(parse_course, test2_1_input.split('\\n'))]) == test2_2_output\n",
    "\n",
    "input2 = data(2, parse_course)\n",
    "\n",
    "follow_complex_course(input2)"
   ]
  },
  {
   "cell_type": "markdown",
   "id": "italian-blogger",
   "metadata": {},
   "source": [
    "# Day 3"
   ]
  },
  {
   "cell_type": "code",
   "execution_count": null,
   "id": "atlantic-bench",
   "metadata": {},
   "outputs": [],
   "source": []
  }
 ],
 "metadata": {
  "kernelspec": {
   "display_name": "Python 3",
   "language": "python",
   "name": "python3"
  },
  "language_info": {
   "codemirror_mode": {
    "name": "ipython",
    "version": 3
   },
   "file_extension": ".py",
   "mimetype": "text/x-python",
   "name": "python",
   "nbconvert_exporter": "python",
   "pygments_lexer": "ipython3",
   "version": "3.8.5"
  }
 },
 "nbformat": 4,
 "nbformat_minor": 5
}
